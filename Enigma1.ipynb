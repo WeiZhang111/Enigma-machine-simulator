{
 "cells": [
  {
   "cell_type": "code",
   "execution_count": 7,
   "id": "4952e972",
   "metadata": {},
   "outputs": [],
   "source": [
    "from single_elements import *  \n",
    "from rotor import *\n",
    "from enigma import *"
   ]
  },
  {
   "cell_type": "code",
   "execution_count": 8,
   "id": "6a5e2b4e",
   "metadata": {},
   "outputs": [
    {
     "name": "stdout",
     "output_type": "stream",
     "text": [
      "RFKTMBXVVW\n"
     ]
    }
   ],
   "source": [
    "E = Enigma(REFLECTOR_B, ROTOR_I, ROTOR_II, ROTOR_III, 'AAZ', plugs='HL MO AJ CX BZ SR NI YW DG PK',ring=\"AAA\")\n",
    "print(E.encipher('HELLOWORLD'))"
   ]
  },
  {
   "cell_type": "code",
   "execution_count": 10,
   "id": "ea9bb4ee",
   "metadata": {},
   "outputs": [
    {
     "data": {
      "text/plain": [
       "'HELLOWORLD'"
      ]
     },
     "execution_count": 10,
     "metadata": {},
     "output_type": "execute_result"
    }
   ],
   "source": [
    "E = Enigma(REFLECTOR_B, ROTOR_I, ROTOR_II, ROTOR_III, 'AAZ', plugs='HL MO AJ CX BZ SR NI YW DG PK',ring=\"AAA\")\n",
    "E.encipher('RFKTMBXVVW')"
   ]
  },
  {
   "cell_type": "code",
   "execution_count": null,
   "id": "b9dbe0a8",
   "metadata": {},
   "outputs": [],
   "source": []
  }
 ],
 "metadata": {
  "kernelspec": {
   "display_name": "Python 3",
   "language": "python",
   "name": "python3"
  },
  "language_info": {
   "codemirror_mode": {
    "name": "ipython",
    "version": 3
   },
   "file_extension": ".py",
   "mimetype": "text/x-python",
   "name": "python",
   "nbconvert_exporter": "python",
   "pygments_lexer": "ipython3",
   "version": "3.8.7"
  }
 },
 "nbformat": 4,
 "nbformat_minor": 5
}
